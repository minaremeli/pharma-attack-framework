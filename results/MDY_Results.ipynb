{
 "cells": [
  {
   "cell_type": "markdown",
   "metadata": {},
   "source": [
    "# Attacks and mitigations\n",
    "**... on model with 40 hidden-layer trunk**\n",
    "\n",
    "#### `Authors`\n",
    "```\n",
    "Mina Remeli\n",
    "Dorottya Futóné Papp \n",
    "Szilvia Lestyán \n",
    "```"
   ]
  },
  {
   "cell_type": "code",
   "execution_count": 1,
   "metadata": {},
   "outputs": [],
   "source": [
    "import numpy as np\n",
    "import matplotlib.pyplot as plt\n",
    "import pandas as pd"
   ]
  },
  {
   "cell_type": "markdown",
   "metadata": {},
   "source": [
    "# Trunk Activation Attack"
   ]
  },
  {
   "cell_type": "code",
   "execution_count": 99,
   "metadata": {},
   "outputs": [],
   "source": [
    "df = pd.read_csv(\"MDY_trunk.csv\")"
   ]
  },
  {
   "cell_type": "code",
   "execution_count": 3,
   "metadata": {},
   "outputs": [
    {
     "data": {
      "text/html": [
       "<div>\n",
       "<style scoped>\n",
       "    .dataframe tbody tr th:only-of-type {\n",
       "        vertical-align: middle;\n",
       "    }\n",
       "\n",
       "    .dataframe tbody tr th {\n",
       "        vertical-align: top;\n",
       "    }\n",
       "\n",
       "    .dataframe thead th {\n",
       "        text-align: right;\n",
       "    }\n",
       "</style>\n",
       "<table border=\"1\" class=\"dataframe\">\n",
       "  <thead>\n",
       "    <tr style=\"text-align: right;\">\n",
       "      <th></th>\n",
       "      <th>num_samples</th>\n",
       "      <th>n_estimators</th>\n",
       "      <th>rounds</th>\n",
       "      <th>input_size</th>\n",
       "      <th>hidden_sizes</th>\n",
       "      <th>middle_dropout</th>\n",
       "      <th>last_dropout</th>\n",
       "      <th>weight_decay</th>\n",
       "      <th>last_non_linearity</th>\n",
       "      <th>middle_non_linearity</th>\n",
       "      <th>...</th>\n",
       "      <th>batch_size</th>\n",
       "      <th>model_avg_auc_pr</th>\n",
       "      <th>model_avg_logloss</th>\n",
       "      <th>TN</th>\n",
       "      <th>FP</th>\n",
       "      <th>FN</th>\n",
       "      <th>TP</th>\n",
       "      <th>accuracy</th>\n",
       "      <th>precision</th>\n",
       "      <th>recall</th>\n",
       "    </tr>\n",
       "  </thead>\n",
       "  <tbody>\n",
       "    <tr>\n",
       "      <th>0</th>\n",
       "      <td>500</td>\n",
       "      <td>100</td>\n",
       "      <td>1000</td>\n",
       "      <td>32000</td>\n",
       "      <td>[40]</td>\n",
       "      <td>0.2</td>\n",
       "      <td>0.2</td>\n",
       "      <td>0.000001</td>\n",
       "      <td>relu</td>\n",
       "      <td>relu</td>\n",
       "      <td>...</td>\n",
       "      <td>1298</td>\n",
       "      <td>0.708428</td>\n",
       "      <td>0.670894</td>\n",
       "      <td>92</td>\n",
       "      <td>73</td>\n",
       "      <td>59</td>\n",
       "      <td>106</td>\n",
       "      <td>0.600000</td>\n",
       "      <td>0.592179</td>\n",
       "      <td>0.642424</td>\n",
       "    </tr>\n",
       "    <tr>\n",
       "      <th>1</th>\n",
       "      <td>500</td>\n",
       "      <td>100</td>\n",
       "      <td>1000</td>\n",
       "      <td>32000</td>\n",
       "      <td>[40]</td>\n",
       "      <td>0.2</td>\n",
       "      <td>0.2</td>\n",
       "      <td>0.000001</td>\n",
       "      <td>relu</td>\n",
       "      <td>relu</td>\n",
       "      <td>...</td>\n",
       "      <td>1298</td>\n",
       "      <td>0.708428</td>\n",
       "      <td>0.670894</td>\n",
       "      <td>96</td>\n",
       "      <td>69</td>\n",
       "      <td>57</td>\n",
       "      <td>108</td>\n",
       "      <td>0.618182</td>\n",
       "      <td>0.610169</td>\n",
       "      <td>0.654545</td>\n",
       "    </tr>\n",
       "    <tr>\n",
       "      <th>2</th>\n",
       "      <td>500</td>\n",
       "      <td>100</td>\n",
       "      <td>1000</td>\n",
       "      <td>32000</td>\n",
       "      <td>[40]</td>\n",
       "      <td>0.2</td>\n",
       "      <td>0.2</td>\n",
       "      <td>0.000001</td>\n",
       "      <td>relu</td>\n",
       "      <td>relu</td>\n",
       "      <td>...</td>\n",
       "      <td>1298</td>\n",
       "      <td>0.708428</td>\n",
       "      <td>0.670894</td>\n",
       "      <td>94</td>\n",
       "      <td>71</td>\n",
       "      <td>56</td>\n",
       "      <td>109</td>\n",
       "      <td>0.615152</td>\n",
       "      <td>0.605556</td>\n",
       "      <td>0.660606</td>\n",
       "    </tr>\n",
       "    <tr>\n",
       "      <th>3</th>\n",
       "      <td>500</td>\n",
       "      <td>100</td>\n",
       "      <td>1000</td>\n",
       "      <td>32000</td>\n",
       "      <td>[40]</td>\n",
       "      <td>0.2</td>\n",
       "      <td>0.2</td>\n",
       "      <td>0.000001</td>\n",
       "      <td>relu</td>\n",
       "      <td>relu</td>\n",
       "      <td>...</td>\n",
       "      <td>1298</td>\n",
       "      <td>0.708428</td>\n",
       "      <td>0.670894</td>\n",
       "      <td>97</td>\n",
       "      <td>68</td>\n",
       "      <td>52</td>\n",
       "      <td>113</td>\n",
       "      <td>0.636364</td>\n",
       "      <td>0.624309</td>\n",
       "      <td>0.684848</td>\n",
       "    </tr>\n",
       "    <tr>\n",
       "      <th>4</th>\n",
       "      <td>500</td>\n",
       "      <td>100</td>\n",
       "      <td>1000</td>\n",
       "      <td>32000</td>\n",
       "      <td>[40]</td>\n",
       "      <td>0.2</td>\n",
       "      <td>0.2</td>\n",
       "      <td>0.000001</td>\n",
       "      <td>relu</td>\n",
       "      <td>relu</td>\n",
       "      <td>...</td>\n",
       "      <td>1298</td>\n",
       "      <td>0.708428</td>\n",
       "      <td>0.670894</td>\n",
       "      <td>89</td>\n",
       "      <td>76</td>\n",
       "      <td>52</td>\n",
       "      <td>113</td>\n",
       "      <td>0.612121</td>\n",
       "      <td>0.597884</td>\n",
       "      <td>0.684848</td>\n",
       "    </tr>\n",
       "  </tbody>\n",
       "</table>\n",
       "<p>5 rows × 29 columns</p>\n",
       "</div>"
      ],
      "text/plain": [
       "   num_samples  n_estimators  rounds  input_size hidden_sizes  middle_dropout  \\\n",
       "0          500           100    1000       32000         [40]             0.2   \n",
       "1          500           100    1000       32000         [40]             0.2   \n",
       "2          500           100    1000       32000         [40]             0.2   \n",
       "3          500           100    1000       32000         [40]             0.2   \n",
       "4          500           100    1000       32000         [40]             0.2   \n",
       "\n",
       "   last_dropout  weight_decay last_non_linearity middle_non_linearity  ...  \\\n",
       "0           0.2      0.000001               relu                 relu  ...   \n",
       "1           0.2      0.000001               relu                 relu  ...   \n",
       "2           0.2      0.000001               relu                 relu  ...   \n",
       "3           0.2      0.000001               relu                 relu  ...   \n",
       "4           0.2      0.000001               relu                 relu  ...   \n",
       "\n",
       "  batch_size model_avg_auc_pr  model_avg_logloss  TN  FP  FN   TP  accuracy  \\\n",
       "0       1298         0.708428           0.670894  92  73  59  106  0.600000   \n",
       "1       1298         0.708428           0.670894  96  69  57  108  0.618182   \n",
       "2       1298         0.708428           0.670894  94  71  56  109  0.615152   \n",
       "3       1298         0.708428           0.670894  97  68  52  113  0.636364   \n",
       "4       1298         0.708428           0.670894  89  76  52  113  0.612121   \n",
       "\n",
       "   precision    recall  \n",
       "0   0.592179  0.642424  \n",
       "1   0.610169  0.654545  \n",
       "2   0.605556  0.660606  \n",
       "3   0.624309  0.684848  \n",
       "4   0.597884  0.684848  \n",
       "\n",
       "[5 rows x 29 columns]"
      ]
     },
     "execution_count": 3,
     "metadata": {},
     "output_type": "execute_result"
    }
   ],
   "source": [
    "df.head()"
   ]
  },
  {
   "cell_type": "code",
   "execution_count": 4,
   "metadata": {},
   "outputs": [
    {
     "data": {
      "text/plain": [
       "0.6198333333333333"
      ]
     },
     "execution_count": 4,
     "metadata": {},
     "output_type": "execute_result"
    }
   ],
   "source": [
    "df.accuracy.mean()"
   ]
  },
  {
   "cell_type": "code",
   "execution_count": 5,
   "metadata": {},
   "outputs": [
    {
     "data": {
      "text/plain": [
       "0.6078369265229285"
      ]
     },
     "execution_count": 5,
     "metadata": {},
     "output_type": "execute_result"
    }
   ],
   "source": [
    "df.precision.mean()"
   ]
  },
  {
   "cell_type": "code",
   "execution_count": 6,
   "metadata": {},
   "outputs": [
    {
     "data": {
      "text/plain": [
       "0.675939393939394"
      ]
     },
     "execution_count": 6,
     "metadata": {},
     "output_type": "execute_result"
    }
   ],
   "source": [
    "df.recall.mean()"
   ]
  },
  {
   "cell_type": "markdown",
   "metadata": {},
   "source": [
    "# Trunk Activation tanh"
   ]
  },
  {
   "cell_type": "code",
   "execution_count": 7,
   "metadata": {},
   "outputs": [],
   "source": [
    "df_t = pd.read_csv(\"MDY_trunk_tanh.csv\")"
   ]
  },
  {
   "cell_type": "code",
   "execution_count": 8,
   "metadata": {},
   "outputs": [
    {
     "data": {
      "text/plain": [
       "0.6044090909090909"
      ]
     },
     "execution_count": 8,
     "metadata": {},
     "output_type": "execute_result"
    }
   ],
   "source": [
    "df_t.accuracy.mean()"
   ]
  },
  {
   "cell_type": "code",
   "execution_count": 9,
   "metadata": {},
   "outputs": [
    {
     "data": {
      "text/plain": [
       "0.5999901498976663"
      ]
     },
     "execution_count": 9,
     "metadata": {},
     "output_type": "execute_result"
    }
   ],
   "source": [
    "df_t.precision.mean()"
   ]
  },
  {
   "cell_type": "code",
   "execution_count": 10,
   "metadata": {},
   "outputs": [
    {
     "data": {
      "text/plain": [
       "0.6264242424242424"
      ]
     },
     "execution_count": 10,
     "metadata": {},
     "output_type": "execute_result"
    }
   ],
   "source": [
    "df_t.recall.mean()"
   ]
  },
  {
   "cell_type": "markdown",
   "metadata": {},
   "source": [
    "# Trunk randsub"
   ]
  },
  {
   "cell_type": "code",
   "execution_count": 11,
   "metadata": {},
   "outputs": [],
   "source": [
    "df = pd.read_csv(\"MDY_trunk_randsub.csv\")"
   ]
  },
  {
   "cell_type": "code",
   "execution_count": 12,
   "metadata": {},
   "outputs": [
    {
     "data": {
      "text/plain": [
       "0.6    50\n",
       "0.8    50\n",
       "0.4    50\n",
       "0.2    50\n",
       "Name: compression_parameter, dtype: int64"
      ]
     },
     "execution_count": 12,
     "metadata": {},
     "output_type": "execute_result"
    }
   ],
   "source": [
    "df.compression_parameter.value_counts()"
   ]
  },
  {
   "cell_type": "code",
   "execution_count": 13,
   "metadata": {},
   "outputs": [],
   "source": [
    "gb = df.groupby('compression_parameter')"
   ]
  },
  {
   "cell_type": "code",
   "execution_count": 14,
   "metadata": {
    "scrolled": true
   },
   "outputs": [
    {
     "data": {
      "text/plain": [
       "compression_parameter\n",
       "0.2    0.604242\n",
       "0.4    0.574364\n",
       "0.6    0.610364\n",
       "0.8    0.595212\n",
       "Name: accuracy, dtype: float64"
      ]
     },
     "execution_count": 14,
     "metadata": {},
     "output_type": "execute_result"
    }
   ],
   "source": [
    "gb.accuracy.mean()"
   ]
  },
  {
   "cell_type": "code",
   "execution_count": 15,
   "metadata": {},
   "outputs": [
    {
     "data": {
      "text/plain": [
       "compression_parameter\n",
       "0.2    0.543137\n",
       "0.4    0.535449\n",
       "0.6    0.552856\n",
       "0.8    0.555435\n",
       "Name: model_avg_auc_pr, dtype: float64"
      ]
     },
     "execution_count": 15,
     "metadata": {},
     "output_type": "execute_result"
    }
   ],
   "source": [
    "gb.model_avg_auc_pr.mean()"
   ]
  },
  {
   "cell_type": "code",
   "execution_count": 16,
   "metadata": {},
   "outputs": [
    {
     "data": {
      "text/plain": [
       "<AxesSubplot:title={'center':'Effect of Random Subset on Trunk Activation Attack accuracy.'}, xlabel='compression_parameter', ylabel='accuracy'>"
      ]
     },
     "execution_count": 16,
     "metadata": {},
     "output_type": "execute_result"
    },
    {
     "data": {
      "image/png": "[encoded data removed]",
      "text/plain": [
       "<Figure size 432x288 with 1 Axes>"
      ]
     },
     "metadata": {
      "needs_background": "light"
     },
     "output_type": "display_data"
    }
   ],
   "source": [
    "gb.accuracy.mean().plot(title=\"Effect of Random Subset on Trunk Activation Attack accuracy.\", ylabel=\"accuracy\", marker=\".\")"
   ]
  },
  {
   "cell_type": "markdown",
   "metadata": {},
   "source": [
    "# Trunk topk"
   ]
  },
  {
   "cell_type": "code",
   "execution_count": 17,
   "metadata": {},
   "outputs": [],
   "source": [
    "df = pd.read_csv(\"MDY_trunk_topk.csv\")"
   ]
  },
  {
   "cell_type": "code",
   "execution_count": 18,
   "metadata": {
    "scrolled": true
   },
   "outputs": [
    {
     "data": {
      "text/plain": [
       "0.6    50\n",
       "0.8    50\n",
       "0.4    50\n",
       "0.2    50\n",
       "Name: compression_parameter, dtype: int64"
      ]
     },
     "execution_count": 18,
     "metadata": {},
     "output_type": "execute_result"
    }
   ],
   "source": [
    "df.compression_parameter.value_counts()"
   ]
  },
  {
   "cell_type": "code",
   "execution_count": 19,
   "metadata": {},
   "outputs": [],
   "source": [
    "gb = df.groupby('compression_parameter')"
   ]
  },
  {
   "cell_type": "code",
   "execution_count": 20,
   "metadata": {},
   "outputs": [
    {
     "data": {
      "text/plain": [
       "compression_parameter\n",
       "0.2    0.586242\n",
       "0.4    0.571273\n",
       "0.6    0.562788\n",
       "0.8    0.553333\n",
       "Name: accuracy, dtype: float64"
      ]
     },
     "execution_count": 20,
     "metadata": {},
     "output_type": "execute_result"
    }
   ],
   "source": [
    "gb.accuracy.mean()"
   ]
  },
  {
   "cell_type": "code",
   "execution_count": 21,
   "metadata": {
    "scrolled": true
   },
   "outputs": [
    {
     "data": {
      "text/plain": [
       "compression_parameter\n",
       "0.2    0.551446\n",
       "0.4    0.558435\n",
       "0.6    0.552744\n",
       "0.8    0.551044\n",
       "Name: model_avg_auc_pr, dtype: float64"
      ]
     },
     "execution_count": 21,
     "metadata": {},
     "output_type": "execute_result"
    }
   ],
   "source": [
    "gb.model_avg_auc_pr.mean()"
   ]
  },
  {
   "cell_type": "code",
   "execution_count": 22,
   "metadata": {},
   "outputs": [
    {
     "data": {
      "text/plain": [
       "<AxesSubplot:title={'center':'Effect of Top-K on Trunk Activation Attack accuracy.'}, xlabel='compression_parameter', ylabel='accuracy'>"
      ]
     },
     "execution_count": 22,
     "metadata": {},
     "output_type": "execute_result"
    },
    {
     "data": {
      "image/png": "[encoded data removed]",
      "text/plain": [
       "<Figure size 432x288 with 1 Axes>"
      ]
     },
     "metadata": {
      "needs_background": "light"
     },
     "output_type": "display_data"
    }
   ],
   "source": [
    "gb.accuracy.mean().plot(title=\"Effect of Top-K on Trunk Activation Attack accuracy.\", ylabel=\"accuracy\", marker=\".\")"
   ]
  },
  {
   "cell_type": "markdown",
   "metadata": {},
   "source": [
    "# Trunk quantize"
   ]
  },
  {
   "cell_type": "code",
   "execution_count": 23,
   "metadata": {},
   "outputs": [],
   "source": [
    "df = pd.read_csv(\"MDY_trunk_quantize.csv\")"
   ]
  },
  {
   "cell_type": "code",
   "execution_count": 24,
   "metadata": {},
   "outputs": [
    {
     "data": {
      "text/plain": [
       "0.5817575757575757"
      ]
     },
     "execution_count": 24,
     "metadata": {},
     "output_type": "execute_result"
    }
   ],
   "source": [
    "df.accuracy.mean()"
   ]
  },
  {
   "cell_type": "code",
   "execution_count": 25,
   "metadata": {},
   "outputs": [
    {
     "data": {
      "text/plain": [
       "0.528776012747572"
      ]
     },
     "execution_count": 25,
     "metadata": {},
     "output_type": "execute_result"
    }
   ],
   "source": [
    "df.model_avg_auc_pr.mean()"
   ]
  },
  {
   "cell_type": "markdown",
   "metadata": {},
   "source": [
    "# Trunk thresholding"
   ]
  },
  {
   "cell_type": "code",
   "execution_count": 26,
   "metadata": {},
   "outputs": [],
   "source": [
    "df = pd.read_csv(\"MDY_trunk_threshold.csv\")"
   ]
  },
  {
   "cell_type": "code",
   "execution_count": 27,
   "metadata": {
    "scrolled": true
   },
   "outputs": [
    {
     "data": {
      "text/plain": [
       "0.5401818181818182"
      ]
     },
     "execution_count": 27,
     "metadata": {},
     "output_type": "execute_result"
    }
   ],
   "source": [
    "df.accuracy.mean()"
   ]
  },
  {
   "cell_type": "code",
   "execution_count": 28,
   "metadata": {},
   "outputs": [
    {
     "data": {
      "text/plain": [
       "0.7341512329855887"
      ]
     },
     "execution_count": 28,
     "metadata": {},
     "output_type": "execute_result"
    }
   ],
   "source": [
    "df.model_avg_auc_pr.mean()"
   ]
  },
  {
   "cell_type": "markdown",
   "metadata": {},
   "source": [
    "# NGMA attack"
   ]
  },
  {
   "cell_type": "code",
   "execution_count": 29,
   "metadata": {},
   "outputs": [],
   "source": [
    "df2 = pd.read_csv(\"MDY_NGMA.csv\")"
   ]
  },
  {
   "cell_type": "code",
   "execution_count": 30,
   "metadata": {},
   "outputs": [
    {
     "data": {
      "text/html": [
       "<div>\n",
       "<style scoped>\n",
       "    .dataframe tbody tr th:only-of-type {\n",
       "        vertical-align: middle;\n",
       "    }\n",
       "\n",
       "    .dataframe tbody tr th {\n",
       "        vertical-align: top;\n",
       "    }\n",
       "\n",
       "    .dataframe thead th {\n",
       "        text-align: right;\n",
       "    }\n",
       "</style>\n",
       "<table border=\"1\" class=\"dataframe\">\n",
       "  <thead>\n",
       "    <tr style=\"text-align: right;\">\n",
       "      <th></th>\n",
       "      <th>num_samples</th>\n",
       "      <th>voting_threshold</th>\n",
       "      <th>rounds</th>\n",
       "      <th>input_size</th>\n",
       "      <th>hidden_sizes</th>\n",
       "      <th>middle_dropout</th>\n",
       "      <th>last_dropout</th>\n",
       "      <th>weight_decay</th>\n",
       "      <th>last_non_linearity</th>\n",
       "      <th>middle_non_linearity</th>\n",
       "      <th>...</th>\n",
       "      <th>batch_size</th>\n",
       "      <th>model_avg_auc_pr</th>\n",
       "      <th>model_avg_logloss</th>\n",
       "      <th>TN</th>\n",
       "      <th>FP</th>\n",
       "      <th>FN</th>\n",
       "      <th>TP</th>\n",
       "      <th>accuracy</th>\n",
       "      <th>precision</th>\n",
       "      <th>recall</th>\n",
       "    </tr>\n",
       "  </thead>\n",
       "  <tbody>\n",
       "    <tr>\n",
       "      <th>0</th>\n",
       "      <td>50</td>\n",
       "      <td>0.5</td>\n",
       "      <td>1000</td>\n",
       "      <td>32000</td>\n",
       "      <td>[40]</td>\n",
       "      <td>0.2</td>\n",
       "      <td>0.2</td>\n",
       "      <td>0.000001</td>\n",
       "      <td>relu</td>\n",
       "      <td>relu</td>\n",
       "      <td>...</td>\n",
       "      <td>1298</td>\n",
       "      <td>0.707780</td>\n",
       "      <td>0.669408</td>\n",
       "      <td>29</td>\n",
       "      <td>21</td>\n",
       "      <td>0</td>\n",
       "      <td>50</td>\n",
       "      <td>0.79</td>\n",
       "      <td>0.704225</td>\n",
       "      <td>1.0</td>\n",
       "    </tr>\n",
       "    <tr>\n",
       "      <th>1</th>\n",
       "      <td>50</td>\n",
       "      <td>0.5</td>\n",
       "      <td>1000</td>\n",
       "      <td>32000</td>\n",
       "      <td>[40]</td>\n",
       "      <td>0.2</td>\n",
       "      <td>0.2</td>\n",
       "      <td>0.000001</td>\n",
       "      <td>relu</td>\n",
       "      <td>relu</td>\n",
       "      <td>...</td>\n",
       "      <td>1298</td>\n",
       "      <td>0.707918</td>\n",
       "      <td>0.670682</td>\n",
       "      <td>38</td>\n",
       "      <td>12</td>\n",
       "      <td>0</td>\n",
       "      <td>50</td>\n",
       "      <td>0.88</td>\n",
       "      <td>0.806452</td>\n",
       "      <td>1.0</td>\n",
       "    </tr>\n",
       "    <tr>\n",
       "      <th>2</th>\n",
       "      <td>50</td>\n",
       "      <td>0.5</td>\n",
       "      <td>1000</td>\n",
       "      <td>32000</td>\n",
       "      <td>[40]</td>\n",
       "      <td>0.2</td>\n",
       "      <td>0.2</td>\n",
       "      <td>0.000001</td>\n",
       "      <td>relu</td>\n",
       "      <td>relu</td>\n",
       "      <td>...</td>\n",
       "      <td>1298</td>\n",
       "      <td>0.707626</td>\n",
       "      <td>0.670056</td>\n",
       "      <td>25</td>\n",
       "      <td>25</td>\n",
       "      <td>0</td>\n",
       "      <td>50</td>\n",
       "      <td>0.75</td>\n",
       "      <td>0.666667</td>\n",
       "      <td>1.0</td>\n",
       "    </tr>\n",
       "    <tr>\n",
       "      <th>3</th>\n",
       "      <td>50</td>\n",
       "      <td>0.5</td>\n",
       "      <td>1000</td>\n",
       "      <td>32000</td>\n",
       "      <td>[40]</td>\n",
       "      <td>0.2</td>\n",
       "      <td>0.2</td>\n",
       "      <td>0.000001</td>\n",
       "      <td>relu</td>\n",
       "      <td>relu</td>\n",
       "      <td>...</td>\n",
       "      <td>1298</td>\n",
       "      <td>0.707670</td>\n",
       "      <td>0.670010</td>\n",
       "      <td>36</td>\n",
       "      <td>14</td>\n",
       "      <td>0</td>\n",
       "      <td>50</td>\n",
       "      <td>0.86</td>\n",
       "      <td>0.781250</td>\n",
       "      <td>1.0</td>\n",
       "    </tr>\n",
       "    <tr>\n",
       "      <th>4</th>\n",
       "      <td>50</td>\n",
       "      <td>0.5</td>\n",
       "      <td>1000</td>\n",
       "      <td>32000</td>\n",
       "      <td>[40]</td>\n",
       "      <td>0.2</td>\n",
       "      <td>0.2</td>\n",
       "      <td>0.000001</td>\n",
       "      <td>relu</td>\n",
       "      <td>relu</td>\n",
       "      <td>...</td>\n",
       "      <td>1298</td>\n",
       "      <td>0.707375</td>\n",
       "      <td>0.668180</td>\n",
       "      <td>37</td>\n",
       "      <td>13</td>\n",
       "      <td>0</td>\n",
       "      <td>50</td>\n",
       "      <td>0.87</td>\n",
       "      <td>0.793651</td>\n",
       "      <td>1.0</td>\n",
       "    </tr>\n",
       "  </tbody>\n",
       "</table>\n",
       "<p>5 rows × 29 columns</p>\n",
       "</div>"
      ],
      "text/plain": [
       "   num_samples  voting_threshold  rounds  input_size hidden_sizes  \\\n",
       "0           50               0.5    1000       32000         [40]   \n",
       "1           50               0.5    1000       32000         [40]   \n",
       "2           50               0.5    1000       32000         [40]   \n",
       "3           50               0.5    1000       32000         [40]   \n",
       "4           50               0.5    1000       32000         [40]   \n",
       "\n",
       "   middle_dropout  last_dropout  weight_decay last_non_linearity  \\\n",
       "0             0.2           0.2      0.000001               relu   \n",
       "1             0.2           0.2      0.000001               relu   \n",
       "2             0.2           0.2      0.000001               relu   \n",
       "3             0.2           0.2      0.000001               relu   \n",
       "4             0.2           0.2      0.000001               relu   \n",
       "\n",
       "  middle_non_linearity  ... batch_size model_avg_auc_pr  model_avg_logloss  \\\n",
       "0                 relu  ...       1298         0.707780           0.669408   \n",
       "1                 relu  ...       1298         0.707918           0.670682   \n",
       "2                 relu  ...       1298         0.707626           0.670056   \n",
       "3                 relu  ...       1298         0.707670           0.670010   \n",
       "4                 relu  ...       1298         0.707375           0.668180   \n",
       "\n",
       "   TN  FP  FN  TP  accuracy  precision  recall  \n",
       "0  29  21   0  50      0.79   0.704225     1.0  \n",
       "1  38  12   0  50      0.88   0.806452     1.0  \n",
       "2  25  25   0  50      0.75   0.666667     1.0  \n",
       "3  36  14   0  50      0.86   0.781250     1.0  \n",
       "4  37  13   0  50      0.87   0.793651     1.0  \n",
       "\n",
       "[5 rows x 29 columns]"
      ]
     },
     "execution_count": 30,
     "metadata": {},
     "output_type": "execute_result"
    }
   ],
   "source": [
    "df2.head()"
   ]
  },
  {
   "cell_type": "code",
   "execution_count": 31,
   "metadata": {},
   "outputs": [
    {
     "data": {
      "text/plain": [
       "0.8240500000000001"
      ]
     },
     "execution_count": 31,
     "metadata": {},
     "output_type": "execute_result"
    }
   ],
   "source": [
    "df2.accuracy.mean()"
   ]
  },
  {
   "cell_type": "code",
   "execution_count": 32,
   "metadata": {},
   "outputs": [
    {
     "data": {
      "text/plain": [
       "0.7416865085678737"
      ]
     },
     "execution_count": 32,
     "metadata": {},
     "output_type": "execute_result"
    }
   ],
   "source": [
    "df2.precision.mean()"
   ]
  },
  {
   "cell_type": "code",
   "execution_count": 33,
   "metadata": {},
   "outputs": [
    {
     "data": {
      "text/plain": [
       "1.0"
      ]
     },
     "execution_count": 33,
     "metadata": {},
     "output_type": "execute_result"
    }
   ],
   "source": [
    "df2.recall.mean()"
   ]
  },
  {
   "cell_type": "code",
   "execution_count": 34,
   "metadata": {},
   "outputs": [
    {
     "data": {
      "text/plain": [
       "0.707781250498164"
      ]
     },
     "execution_count": 34,
     "metadata": {},
     "output_type": "execute_result"
    }
   ],
   "source": [
    "df2.model_avg_auc_pr.mean()"
   ]
  },
  {
   "cell_type": "markdown",
   "metadata": {},
   "source": [
    "# NGMA tanh"
   ]
  },
  {
   "cell_type": "code",
   "execution_count": 35,
   "metadata": {},
   "outputs": [],
   "source": [
    "df2_t = pd.read_csv(\"MDY_NGMA_trunk.csv\")"
   ]
  },
  {
   "cell_type": "code",
   "execution_count": 36,
   "metadata": {},
   "outputs": [
    {
     "data": {
      "text/plain": [
       "0.8240999999999999"
      ]
     },
     "execution_count": 36,
     "metadata": {},
     "output_type": "execute_result"
    }
   ],
   "source": [
    "df2_t.accuracy.mean()"
   ]
  },
  {
   "cell_type": "code",
   "execution_count": 37,
   "metadata": {},
   "outputs": [
    {
     "data": {
      "text/plain": [
       "0.7417368103787387"
      ]
     },
     "execution_count": 37,
     "metadata": {},
     "output_type": "execute_result"
    }
   ],
   "source": [
    "df2_t.precision.mean()"
   ]
  },
  {
   "cell_type": "code",
   "execution_count": 38,
   "metadata": {},
   "outputs": [
    {
     "data": {
      "text/plain": [
       "1.0"
      ]
     },
     "execution_count": 38,
     "metadata": {},
     "output_type": "execute_result"
    }
   ],
   "source": [
    "df2_t.recall.mean()"
   ]
  },
  {
   "cell_type": "markdown",
   "metadata": {},
   "source": [
    "# NGMA dropout"
   ]
  },
  {
   "cell_type": "code",
   "execution_count": 2,
   "metadata": {},
   "outputs": [],
   "source": [
    "df = pd.read_csv(\"MDY_NGMA_dropout.csv\")"
   ]
  },
  {
   "cell_type": "code",
   "execution_count": 3,
   "metadata": {},
   "outputs": [
    {
     "data": {
      "text/plain": [
       "0.6    50\n",
       "0.8    50\n",
       "0.4    50\n",
       "0.2    50\n",
       "Name: first_dropout, dtype: int64"
      ]
     },
     "execution_count": 3,
     "metadata": {},
     "output_type": "execute_result"
    }
   ],
   "source": [
    "df.first_dropout.value_counts()"
   ]
  },
  {
   "cell_type": "code",
   "execution_count": 4,
   "metadata": {},
   "outputs": [],
   "source": [
    "gb = df.groupby('first_dropout')"
   ]
  },
  {
   "cell_type": "code",
   "execution_count": 5,
   "metadata": {
    "scrolled": true
   },
   "outputs": [
    {
     "data": {
      "text/plain": [
       "first_dropout\n",
       "0.2    0.8278\n",
       "0.4    0.7794\n",
       "0.6    0.6482\n",
       "0.8    0.5126\n",
       "Name: accuracy, dtype: float64"
      ]
     },
     "execution_count": 5,
     "metadata": {},
     "output_type": "execute_result"
    }
   ],
   "source": [
    "gb.accuracy.mean()"
   ]
  },
  {
   "cell_type": "code",
   "execution_count": 6,
   "metadata": {},
   "outputs": [
    {
     "data": {
      "text/plain": [
       "first_dropout\n",
       "0.2    0.705610\n",
       "0.4    0.700000\n",
       "0.6    0.692736\n",
       "0.8    0.681384\n",
       "Name: model_avg_auc_pr, dtype: float64"
      ]
     },
     "execution_count": 6,
     "metadata": {},
     "output_type": "execute_result"
    }
   ],
   "source": [
    "gb.model_avg_auc_pr.mean()"
   ]
  },
  {
   "cell_type": "code",
   "execution_count": 12,
   "metadata": {},
   "outputs": [
    {
     "data": {
      "text/plain": [
       "<matplotlib.legend.Legend at 0x7fe0382799b0>"
      ]
     },
     "execution_count": 12,
     "metadata": {},
     "output_type": "execute_result"
    },
    {
     "data": {
      "image/png": "[encoded data removed]",
      "text/plain": [
       "<Figure size 432x288 with 1 Axes>"
      ]
     },
     "metadata": {
      "needs_background": "light"
     },
     "output_type": "display_data"
    }
   ],
   "source": [
    "gb.accuracy.mean().append(pd.Series([0.8241], index=[0.0])).sort_index().plot(title=\"Effect of first layer dropout on NGMA accuracy.\", ylabel=\"attack accuracy\", marker=\".\", xlabel=\"first_dropout\", label=\"NGMA\")\n",
    "gb.model_avg_auc_pr.mean().append(pd.Series([0.7084], index=[0.0])).sort_index().plot(linestyle='dashed', color='red', label=\"model accuracy\")\n",
    "plt.legend()"
   ]
  },
  {
   "cell_type": "markdown",
   "metadata": {},
   "source": [
    "# NGMA randsub"
   ]
  },
  {
   "cell_type": "code",
   "execution_count": 45,
   "metadata": {},
   "outputs": [],
   "source": [
    "df = pd.read_csv(\"MDY_NGMA_randsub.csv\")"
   ]
  },
  {
   "cell_type": "code",
   "execution_count": 46,
   "metadata": {},
   "outputs": [
    {
     "data": {
      "text/plain": [
       "0.6    50\n",
       "0.8    50\n",
       "0.4    50\n",
       "0.2    50\n",
       "Name: compression_parameter, dtype: int64"
      ]
     },
     "execution_count": 46,
     "metadata": {},
     "output_type": "execute_result"
    }
   ],
   "source": [
    "df.compression_parameter.value_counts()"
   ]
  },
  {
   "cell_type": "code",
   "execution_count": 47,
   "metadata": {},
   "outputs": [],
   "source": [
    "gb = df.groupby('compression_parameter')"
   ]
  },
  {
   "cell_type": "code",
   "execution_count": 48,
   "metadata": {
    "scrolled": true
   },
   "outputs": [
    {
     "data": {
      "text/plain": [
       "compression_parameter\n",
       "0.2    0.5000\n",
       "0.4    0.5000\n",
       "0.6    0.5002\n",
       "0.8    0.5954\n",
       "Name: accuracy, dtype: float64"
      ]
     },
     "execution_count": 48,
     "metadata": {},
     "output_type": "execute_result"
    }
   ],
   "source": [
    "gb.accuracy.mean()"
   ]
  },
  {
   "cell_type": "code",
   "execution_count": 49,
   "metadata": {},
   "outputs": [
    {
     "data": {
      "text/plain": [
       "compression_parameter\n",
       "0.2    0.546124\n",
       "0.4    0.539782\n",
       "0.6    0.555676\n",
       "0.8    0.557920\n",
       "Name: model_avg_auc_pr, dtype: float64"
      ]
     },
     "execution_count": 49,
     "metadata": {},
     "output_type": "execute_result"
    }
   ],
   "source": [
    "gb.model_avg_auc_pr.mean()"
   ]
  },
  {
   "cell_type": "code",
   "execution_count": 50,
   "metadata": {},
   "outputs": [
    {
     "data": {
      "text/plain": [
       "<AxesSubplot:title={'center':'Effect of Random Subset on NGMA accuracy.'}, xlabel='compression_parameter', ylabel='accuracy'>"
      ]
     },
     "execution_count": 50,
     "metadata": {},
     "output_type": "execute_result"
    },
    {
     "data": {
      "image/png": "[encoded data removed]",
      "text/plain": [
       "<Figure size 432x288 with 1 Axes>"
      ]
     },
     "metadata": {
      "needs_background": "light"
     },
     "output_type": "display_data"
    }
   ],
   "source": [
    "gb.accuracy.mean().plot(title=\"Effect of Random Subset on NGMA accuracy.\", ylabel=\"accuracy\", marker=\".\")"
   ]
  },
  {
   "cell_type": "markdown",
   "metadata": {},
   "source": [
    "# NGMA Top-K"
   ]
  },
  {
   "cell_type": "code",
   "execution_count": 51,
   "metadata": {},
   "outputs": [],
   "source": [
    "df = pd.read_csv(\"MDY_NGMA_topk.csv\")"
   ]
  },
  {
   "cell_type": "code",
   "execution_count": 52,
   "metadata": {
    "scrolled": true
   },
   "outputs": [
    {
     "data": {
      "text/plain": [
       "0.2    51\n",
       "0.6    50\n",
       "0.8    50\n",
       "0.4    50\n",
       "Name: compression_parameter, dtype: int64"
      ]
     },
     "execution_count": 52,
     "metadata": {},
     "output_type": "execute_result"
    }
   ],
   "source": [
    "df.compression_parameter.value_counts()"
   ]
  },
  {
   "cell_type": "code",
   "execution_count": 53,
   "metadata": {},
   "outputs": [],
   "source": [
    "gb = df.groupby('compression_parameter')"
   ]
  },
  {
   "cell_type": "code",
   "execution_count": 54,
   "metadata": {},
   "outputs": [
    {
     "data": {
      "text/plain": [
       "compression_parameter\n",
       "0.2    0.505686\n",
       "0.4    0.517600\n",
       "0.6    0.579800\n",
       "0.8    0.662800\n",
       "Name: accuracy, dtype: float64"
      ]
     },
     "execution_count": 54,
     "metadata": {},
     "output_type": "execute_result"
    }
   ],
   "source": [
    "gb.accuracy.mean()"
   ]
  },
  {
   "cell_type": "code",
   "execution_count": 55,
   "metadata": {},
   "outputs": [
    {
     "data": {
      "text/plain": [
       "compression_parameter\n",
       "0.2    0.552626\n",
       "0.4    0.558576\n",
       "0.6    0.552908\n",
       "0.8    0.551135\n",
       "Name: model_avg_auc_pr, dtype: float64"
      ]
     },
     "execution_count": 55,
     "metadata": {},
     "output_type": "execute_result"
    }
   ],
   "source": [
    "gb.model_avg_auc_pr.mean()"
   ]
  },
  {
   "cell_type": "code",
   "execution_count": 56,
   "metadata": {},
   "outputs": [
    {
     "data": {
      "text/plain": [
       "<AxesSubplot:title={'center':'Effect of Top-K on NGMA accuracy.'}, xlabel='compression_parameter', ylabel='accuracy'>"
      ]
     },
     "execution_count": 56,
     "metadata": {},
     "output_type": "execute_result"
    },
    {
     "data": {
      "image/png": "[encoded data removed]",
      "text/plain": [
       "<Figure size 432x288 with 1 Axes>"
      ]
     },
     "metadata": {
      "needs_background": "light"
     },
     "output_type": "display_data"
    }
   ],
   "source": [
    "gb.accuracy.mean().plot(title=\"Effect of Top-K on NGMA accuracy.\", ylabel=\"accuracy\", marker=\".\")"
   ]
  },
  {
   "cell_type": "markdown",
   "metadata": {},
   "source": [
    "# NGMA quantize"
   ]
  },
  {
   "cell_type": "code",
   "execution_count": 57,
   "metadata": {},
   "outputs": [],
   "source": [
    "df = pd.read_csv(\"MDY_NGMA_quantize.csv\")"
   ]
  },
  {
   "cell_type": "code",
   "execution_count": 58,
   "metadata": {},
   "outputs": [
    {
     "data": {
      "text/plain": [
       "0.5"
      ]
     },
     "execution_count": 58,
     "metadata": {},
     "output_type": "execute_result"
    }
   ],
   "source": [
    "df.accuracy.mean()"
   ]
  },
  {
   "cell_type": "code",
   "execution_count": 59,
   "metadata": {},
   "outputs": [
    {
     "data": {
      "text/plain": [
       "0.5282061029440204"
      ]
     },
     "execution_count": 59,
     "metadata": {},
     "output_type": "execute_result"
    }
   ],
   "source": [
    "df.model_avg_auc_pr.mean()"
   ]
  },
  {
   "cell_type": "markdown",
   "metadata": {},
   "source": [
    "# NGMA thresholding"
   ]
  },
  {
   "cell_type": "code",
   "execution_count": 60,
   "metadata": {},
   "outputs": [],
   "source": [
    "df = pd.read_csv(\"MDY_NGMA_threshold.csv\")"
   ]
  },
  {
   "cell_type": "code",
   "execution_count": 61,
   "metadata": {
    "scrolled": true
   },
   "outputs": [
    {
     "data": {
      "text/plain": [
       "0.5"
      ]
     },
     "execution_count": 61,
     "metadata": {},
     "output_type": "execute_result"
    }
   ],
   "source": [
    "df.accuracy.mean()"
   ]
  },
  {
   "cell_type": "code",
   "execution_count": 62,
   "metadata": {},
   "outputs": [
    {
     "data": {
      "text/plain": [
       "0.7341512329855887"
      ]
     },
     "execution_count": 62,
     "metadata": {},
     "output_type": "execute_result"
    }
   ],
   "source": [
    "df.model_avg_auc_pr.mean()"
   ]
  },
  {
   "cell_type": "markdown",
   "metadata": {},
   "source": [
    "# Leaving (N-1) attack"
   ]
  },
  {
   "cell_type": "code",
   "execution_count": 63,
   "metadata": {},
   "outputs": [],
   "source": [
    "df3 = pd.read_csv(\"MDY_Leaving.csv\")"
   ]
  },
  {
   "cell_type": "code",
   "execution_count": 64,
   "metadata": {},
   "outputs": [
    {
     "data": {
      "text/html": [
       "<div>\n",
       "<style scoped>\n",
       "    .dataframe tbody tr th:only-of-type {\n",
       "        vertical-align: middle;\n",
       "    }\n",
       "\n",
       "    .dataframe tbody tr th {\n",
       "        vertical-align: top;\n",
       "    }\n",
       "\n",
       "    .dataframe thead th {\n",
       "        text-align: right;\n",
       "    }\n",
       "</style>\n",
       "<table border=\"1\" class=\"dataframe\">\n",
       "  <thead>\n",
       "    <tr style=\"text-align: right;\">\n",
       "      <th></th>\n",
       "      <th>num_epochs</th>\n",
       "      <th>voting_threshold</th>\n",
       "      <th>rounds</th>\n",
       "      <th>input_size</th>\n",
       "      <th>hidden_sizes</th>\n",
       "      <th>middle_dropout</th>\n",
       "      <th>last_dropout</th>\n",
       "      <th>weight_decay</th>\n",
       "      <th>last_non_linearity</th>\n",
       "      <th>middle_non_linearity</th>\n",
       "      <th>...</th>\n",
       "      <th>input_size_freq</th>\n",
       "      <th>uncertainty_weights</th>\n",
       "      <th>seed</th>\n",
       "      <th>output_size</th>\n",
       "      <th>batch_size</th>\n",
       "      <th>model_avg_auc_pr</th>\n",
       "      <th>model_avg_logloss</th>\n",
       "      <th>pos_epochs_together</th>\n",
       "      <th>pos_epochs_left</th>\n",
       "      <th>p</th>\n",
       "    </tr>\n",
       "  </thead>\n",
       "  <tbody>\n",
       "    <tr>\n",
       "      <th>0</th>\n",
       "      <td>30</td>\n",
       "      <td>0.2</td>\n",
       "      <td>1000</td>\n",
       "      <td>32000</td>\n",
       "      <td>[40]</td>\n",
       "      <td>0.2</td>\n",
       "      <td>0.2</td>\n",
       "      <td>0.000001</td>\n",
       "      <td>relu</td>\n",
       "      <td>relu</td>\n",
       "      <td>...</td>\n",
       "      <td>32000</td>\n",
       "      <td>False</td>\n",
       "      <td>1</td>\n",
       "      <td>309</td>\n",
       "      <td>1298</td>\n",
       "      <td>0.704169</td>\n",
       "      <td>0.668107</td>\n",
       "      <td>26</td>\n",
       "      <td>0</td>\n",
       "      <td>5.599666e-27</td>\n",
       "    </tr>\n",
       "    <tr>\n",
       "      <th>1</th>\n",
       "      <td>30</td>\n",
       "      <td>0.2</td>\n",
       "      <td>1000</td>\n",
       "      <td>32000</td>\n",
       "      <td>[40]</td>\n",
       "      <td>0.2</td>\n",
       "      <td>0.2</td>\n",
       "      <td>0.000001</td>\n",
       "      <td>relu</td>\n",
       "      <td>relu</td>\n",
       "      <td>...</td>\n",
       "      <td>32000</td>\n",
       "      <td>False</td>\n",
       "      <td>2</td>\n",
       "      <td>309</td>\n",
       "      <td>1298</td>\n",
       "      <td>0.703898</td>\n",
       "      <td>0.667788</td>\n",
       "      <td>0</td>\n",
       "      <td>0</td>\n",
       "      <td>1.000000e+00</td>\n",
       "    </tr>\n",
       "  </tbody>\n",
       "</table>\n",
       "<p>2 rows × 25 columns</p>\n",
       "</div>"
      ],
      "text/plain": [
       "   num_epochs  voting_threshold  rounds  input_size hidden_sizes  \\\n",
       "0          30               0.2    1000       32000         [40]   \n",
       "1          30               0.2    1000       32000         [40]   \n",
       "\n",
       "   middle_dropout  last_dropout  weight_decay last_non_linearity  \\\n",
       "0             0.2           0.2      0.000001               relu   \n",
       "1             0.2           0.2      0.000001               relu   \n",
       "\n",
       "  middle_non_linearity  ... input_size_freq uncertainty_weights  seed  \\\n",
       "0                 relu  ...           32000               False     1   \n",
       "1                 relu  ...           32000               False     2   \n",
       "\n",
       "   output_size batch_size  model_avg_auc_pr  model_avg_logloss  \\\n",
       "0          309       1298          0.704169           0.668107   \n",
       "1          309       1298          0.703898           0.667788   \n",
       "\n",
       "   pos_epochs_together  pos_epochs_left             p  \n",
       "0                   26                0  5.599666e-27  \n",
       "1                    0                0  1.000000e+00  \n",
       "\n",
       "[2 rows x 25 columns]"
      ]
     },
     "execution_count": 64,
     "metadata": {},
     "output_type": "execute_result"
    }
   ],
   "source": [
    "df3.head()"
   ]
  },
  {
   "cell_type": "code",
   "execution_count": null,
   "metadata": {},
   "outputs": [],
   "source": []
  },
  {
   "cell_type": "markdown",
   "metadata": {},
   "source": [
    "# Top-K"
   ]
  },
  {
   "cell_type": "code",
   "execution_count": 83,
   "metadata": {},
   "outputs": [],
   "source": [
    "df_trunk = pd.read_csv(\"MDY_trunk_topk.csv\")\n",
    "df_NGMA = pd.read_csv(\"MDY_NGMA_topk.csv\")"
   ]
  },
  {
   "cell_type": "code",
   "execution_count": 84,
   "metadata": {},
   "outputs": [],
   "source": [
    "gb_trunk = df_trunk.groupby('compression_parameter')\n",
    "gb_NGMA = df_NGMA.groupby('compression_parameter')"
   ]
  },
  {
   "cell_type": "code",
   "execution_count": 90,
   "metadata": {},
   "outputs": [],
   "source": [
    "trunk_accuracy = gb_trunk.accuracy.mean()\n",
    "NGMA_accuracy = gb_NGMA.accuracy.mean()\n",
    "model_accuracy = gb_NGMA.model_avg_auc_pr.mean()\n",
    "\n",
    "frame = {'NGMA': NGMA_accuracy, 'TrunkActivationAttack': trunk_accuracy, 'model accuracy': model_accuracy}\n",
    "\n",
    "result = pd.DataFrame(frame)"
   ]
  },
  {
   "cell_type": "code",
   "execution_count": 91,
   "metadata": {},
   "outputs": [
    {
     "data": {
      "text/html": [
       "<div>\n",
       "<style scoped>\n",
       "    .dataframe tbody tr th:only-of-type {\n",
       "        vertical-align: middle;\n",
       "    }\n",
       "\n",
       "    .dataframe tbody tr th {\n",
       "        vertical-align: top;\n",
       "    }\n",
       "\n",
       "    .dataframe thead th {\n",
       "        text-align: right;\n",
       "    }\n",
       "</style>\n",
       "<table border=\"1\" class=\"dataframe\">\n",
       "  <thead>\n",
       "    <tr style=\"text-align: right;\">\n",
       "      <th></th>\n",
       "      <th>NGMA</th>\n",
       "      <th>TrunkActivationAttack</th>\n",
       "      <th>model accuracy</th>\n",
       "    </tr>\n",
       "    <tr>\n",
       "      <th>compression_parameter</th>\n",
       "      <th></th>\n",
       "      <th></th>\n",
       "      <th></th>\n",
       "    </tr>\n",
       "  </thead>\n",
       "  <tbody>\n",
       "    <tr>\n",
       "      <th>0.2</th>\n",
       "      <td>0.505686</td>\n",
       "      <td>0.586242</td>\n",
       "      <td>0.552626</td>\n",
       "    </tr>\n",
       "    <tr>\n",
       "      <th>0.4</th>\n",
       "      <td>0.517600</td>\n",
       "      <td>0.571273</td>\n",
       "      <td>0.558576</td>\n",
       "    </tr>\n",
       "    <tr>\n",
       "      <th>0.6</th>\n",
       "      <td>0.579800</td>\n",
       "      <td>0.562788</td>\n",
       "      <td>0.552908</td>\n",
       "    </tr>\n",
       "    <tr>\n",
       "      <th>0.8</th>\n",
       "      <td>0.662800</td>\n",
       "      <td>0.553333</td>\n",
       "      <td>0.551135</td>\n",
       "    </tr>\n",
       "  </tbody>\n",
       "</table>\n",
       "</div>"
      ],
      "text/plain": [
       "                           NGMA  TrunkActivationAttack  model accuracy\n",
       "compression_parameter                                                 \n",
       "0.2                    0.505686               0.586242        0.552626\n",
       "0.4                    0.517600               0.571273        0.558576\n",
       "0.6                    0.579800               0.562788        0.552908\n",
       "0.8                    0.662800               0.553333        0.551135"
      ]
     },
     "execution_count": 91,
     "metadata": {},
     "output_type": "execute_result"
    }
   ],
   "source": [
    "result"
   ]
  },
  {
   "cell_type": "code",
   "execution_count": 97,
   "metadata": {},
   "outputs": [
    {
     "data": {
      "text/plain": [
       "<matplotlib.legend.Legend at 0x7f9075092c18>"
      ]
     },
     "execution_count": 97,
     "metadata": {},
     "output_type": "execute_result"
    },
    {
     "data": {
      "image/png": "[encoded data removed]",
      "text/plain": [
       "<Figure size 432x288 with 1 Axes>"
      ]
     },
     "metadata": {
      "needs_background": "light"
     },
     "output_type": "display_data"
    }
   ],
   "source": [
    "plt.figure()\n",
    "\n",
    "result.NGMA.plot(marker=\".\")\n",
    "result.TrunkActivationAttack.plot(marker='.')\n",
    "result['model accuracy'].plot(linestyle='dashed', color='red')\n",
    "\n",
    "plt.title('Effect of Top-K on attacks')\n",
    "plt.ylabel('accuracy')\n",
    "plt.legend()"
   ]
  },
  {
   "cell_type": "markdown",
   "metadata": {},
   "source": [
    "# NGMA batch size"
   ]
  },
  {
   "cell_type": "code",
   "execution_count": 13,
   "metadata": {},
   "outputs": [],
   "source": [
    "df_NGMA = pd.read_csv(\"MDY_NGMA_batch_ratio.csv\")"
   ]
  },
  {
   "cell_type": "code",
   "execution_count": 14,
   "metadata": {
    "scrolled": true
   },
   "outputs": [
    {
     "data": {
      "text/html": [
       "<div>\n",
       "<style scoped>\n",
       "    .dataframe tbody tr th:only-of-type {\n",
       "        vertical-align: middle;\n",
       "    }\n",
       "\n",
       "    .dataframe tbody tr th {\n",
       "        vertical-align: top;\n",
       "    }\n",
       "\n",
       "    .dataframe thead th {\n",
       "        text-align: right;\n",
       "    }\n",
       "</style>\n",
       "<table border=\"1\" class=\"dataframe\">\n",
       "  <thead>\n",
       "    <tr style=\"text-align: right;\">\n",
       "      <th></th>\n",
       "      <th>num_samples</th>\n",
       "      <th>voting_threshold</th>\n",
       "      <th>rounds</th>\n",
       "      <th>input_size</th>\n",
       "      <th>batch_ratio</th>\n",
       "      <th>hidden_sizes</th>\n",
       "      <th>first_dropout</th>\n",
       "      <th>middle_dropout</th>\n",
       "      <th>last_dropout</th>\n",
       "      <th>weight_decay</th>\n",
       "      <th>...</th>\n",
       "      <th>seed</th>\n",
       "      <th>model_avg_auc_pr</th>\n",
       "      <th>model_avg_logloss</th>\n",
       "      <th>TN</th>\n",
       "      <th>FP</th>\n",
       "      <th>FN</th>\n",
       "      <th>TP</th>\n",
       "      <th>accuracy</th>\n",
       "      <th>precision</th>\n",
       "      <th>recall</th>\n",
       "    </tr>\n",
       "  </thead>\n",
       "  <tbody>\n",
       "    <tr>\n",
       "      <th>0</th>\n",
       "      <td>50</td>\n",
       "      <td>0.5</td>\n",
       "      <td>1000</td>\n",
       "      <td>32000</td>\n",
       "      <td>0.04</td>\n",
       "      <td>[40]</td>\n",
       "      <td>0.0</td>\n",
       "      <td>0.2</td>\n",
       "      <td>0.2</td>\n",
       "      <td>0.000001</td>\n",
       "      <td>...</td>\n",
       "      <td>0</td>\n",
       "      <td>0.706139</td>\n",
       "      <td>0.667416</td>\n",
       "      <td>11</td>\n",
       "      <td>39</td>\n",
       "      <td>0</td>\n",
       "      <td>50</td>\n",
       "      <td>0.61</td>\n",
       "      <td>0.561798</td>\n",
       "      <td>1.0</td>\n",
       "    </tr>\n",
       "    <tr>\n",
       "      <th>1</th>\n",
       "      <td>50</td>\n",
       "      <td>0.5</td>\n",
       "      <td>1000</td>\n",
       "      <td>32000</td>\n",
       "      <td>0.04</td>\n",
       "      <td>[40]</td>\n",
       "      <td>0.0</td>\n",
       "      <td>0.2</td>\n",
       "      <td>0.2</td>\n",
       "      <td>0.000001</td>\n",
       "      <td>...</td>\n",
       "      <td>1</td>\n",
       "      <td>0.706113</td>\n",
       "      <td>0.667510</td>\n",
       "      <td>22</td>\n",
       "      <td>28</td>\n",
       "      <td>0</td>\n",
       "      <td>50</td>\n",
       "      <td>0.72</td>\n",
       "      <td>0.641026</td>\n",
       "      <td>1.0</td>\n",
       "    </tr>\n",
       "    <tr>\n",
       "      <th>2</th>\n",
       "      <td>50</td>\n",
       "      <td>0.5</td>\n",
       "      <td>1000</td>\n",
       "      <td>32000</td>\n",
       "      <td>0.04</td>\n",
       "      <td>[40]</td>\n",
       "      <td>0.0</td>\n",
       "      <td>0.2</td>\n",
       "      <td>0.2</td>\n",
       "      <td>0.000001</td>\n",
       "      <td>...</td>\n",
       "      <td>2</td>\n",
       "      <td>0.705671</td>\n",
       "      <td>0.666114</td>\n",
       "      <td>16</td>\n",
       "      <td>34</td>\n",
       "      <td>0</td>\n",
       "      <td>50</td>\n",
       "      <td>0.66</td>\n",
       "      <td>0.595238</td>\n",
       "      <td>1.0</td>\n",
       "    </tr>\n",
       "    <tr>\n",
       "      <th>3</th>\n",
       "      <td>50</td>\n",
       "      <td>0.5</td>\n",
       "      <td>1000</td>\n",
       "      <td>32000</td>\n",
       "      <td>0.04</td>\n",
       "      <td>[40]</td>\n",
       "      <td>0.0</td>\n",
       "      <td>0.2</td>\n",
       "      <td>0.2</td>\n",
       "      <td>0.000001</td>\n",
       "      <td>...</td>\n",
       "      <td>3</td>\n",
       "      <td>0.705992</td>\n",
       "      <td>0.668636</td>\n",
       "      <td>15</td>\n",
       "      <td>35</td>\n",
       "      <td>0</td>\n",
       "      <td>50</td>\n",
       "      <td>0.65</td>\n",
       "      <td>0.588235</td>\n",
       "      <td>1.0</td>\n",
       "    </tr>\n",
       "    <tr>\n",
       "      <th>4</th>\n",
       "      <td>50</td>\n",
       "      <td>0.5</td>\n",
       "      <td>1000</td>\n",
       "      <td>32000</td>\n",
       "      <td>0.04</td>\n",
       "      <td>[40]</td>\n",
       "      <td>0.0</td>\n",
       "      <td>0.2</td>\n",
       "      <td>0.2</td>\n",
       "      <td>0.000001</td>\n",
       "      <td>...</td>\n",
       "      <td>4</td>\n",
       "      <td>0.705464</td>\n",
       "      <td>0.667209</td>\n",
       "      <td>15</td>\n",
       "      <td>35</td>\n",
       "      <td>0</td>\n",
       "      <td>50</td>\n",
       "      <td>0.65</td>\n",
       "      <td>0.588235</td>\n",
       "      <td>1.0</td>\n",
       "    </tr>\n",
       "  </tbody>\n",
       "</table>\n",
       "<p>5 rows × 31 columns</p>\n",
       "</div>"
      ],
      "text/plain": [
       "   num_samples  voting_threshold  rounds  input_size  batch_ratio  \\\n",
       "0           50               0.5    1000       32000         0.04   \n",
       "1           50               0.5    1000       32000         0.04   \n",
       "2           50               0.5    1000       32000         0.04   \n",
       "3           50               0.5    1000       32000         0.04   \n",
       "4           50               0.5    1000       32000         0.04   \n",
       "\n",
       "  hidden_sizes  first_dropout  middle_dropout  last_dropout  weight_decay  \\\n",
       "0         [40]            0.0             0.2           0.2      0.000001   \n",
       "1         [40]            0.0             0.2           0.2      0.000001   \n",
       "2         [40]            0.0             0.2           0.2      0.000001   \n",
       "3         [40]            0.0             0.2           0.2      0.000001   \n",
       "4         [40]            0.0             0.2           0.2      0.000001   \n",
       "\n",
       "   ... seed model_avg_auc_pr model_avg_logloss  TN  FP  FN  TP  accuracy  \\\n",
       "0  ...    0         0.706139          0.667416  11  39   0  50      0.61   \n",
       "1  ...    1         0.706113          0.667510  22  28   0  50      0.72   \n",
       "2  ...    2         0.705671          0.666114  16  34   0  50      0.66   \n",
       "3  ...    3         0.705992          0.668636  15  35   0  50      0.65   \n",
       "4  ...    4         0.705464          0.667209  15  35   0  50      0.65   \n",
       "\n",
       "   precision  recall  \n",
       "0   0.561798     1.0  \n",
       "1   0.641026     1.0  \n",
       "2   0.595238     1.0  \n",
       "3   0.588235     1.0  \n",
       "4   0.588235     1.0  \n",
       "\n",
       "[5 rows x 31 columns]"
      ]
     },
     "execution_count": 14,
     "metadata": {},
     "output_type": "execute_result"
    }
   ],
   "source": [
    "df_NGMA.head()"
   ]
  },
  {
   "cell_type": "code",
   "execution_count": 15,
   "metadata": {},
   "outputs": [
    {
     "data": {
      "text/plain": [
       "0.06    50\n",
       "0.08    50\n",
       "0.10    50\n",
       "0.04    50\n",
       "Name: batch_ratio, dtype: int64"
      ]
     },
     "execution_count": 15,
     "metadata": {},
     "output_type": "execute_result"
    }
   ],
   "source": [
    "df_NGMA.batch_ratio.value_counts()"
   ]
  },
  {
   "cell_type": "code",
   "execution_count": 16,
   "metadata": {},
   "outputs": [],
   "source": [
    "gb = df_NGMA.groupby('batch_ratio')"
   ]
  },
  {
   "cell_type": "code",
   "execution_count": 17,
   "metadata": {},
   "outputs": [],
   "source": [
    "NGMA_accuracy = gb.accuracy.mean()"
   ]
  },
  {
   "cell_type": "code",
   "execution_count": 18,
   "metadata": {},
   "outputs": [
    {
     "data": {
      "text/plain": [
       "batch_ratio\n",
       "0.04    0.6426\n",
       "0.06    0.5470\n",
       "0.08    0.5230\n",
       "0.10    0.5548\n",
       "Name: accuracy, dtype: float64"
      ]
     },
     "execution_count": 18,
     "metadata": {},
     "output_type": "execute_result"
    }
   ],
   "source": [
    "NGMA_accuracy"
   ]
  },
  {
   "cell_type": "code",
   "execution_count": 19,
   "metadata": {},
   "outputs": [],
   "source": [
    "NGMA_accuracy = NGMA_accuracy.append(pd.Series([0.8241], index=[0.02])).sort_index()"
   ]
  },
  {
   "cell_type": "code",
   "execution_count": 20,
   "metadata": {},
   "outputs": [
    {
     "data": {
      "text/plain": [
       "0.02    0.8241\n",
       "0.04    0.6426\n",
       "0.06    0.5470\n",
       "0.08    0.5230\n",
       "dtype: float64"
      ]
     },
     "execution_count": 20,
     "metadata": {},
     "output_type": "execute_result"
    }
   ],
   "source": [
    "NGMA_accuracy.head(4)"
   ]
  },
  {
   "cell_type": "code",
   "execution_count": 25,
   "metadata": {},
   "outputs": [
    {
     "data": {
      "text/plain": [
       "Text(0.5, 0, 'ratio of samples used in a mini-batch')"
      ]
     },
     "execution_count": 25,
     "metadata": {},
     "output_type": "execute_result"
    },
    {
     "data": {
      "image/png": "[encoded data removed]",
      "text/plain": [
       "<Figure size 432x288 with 1 Axes>"
      ]
     },
     "metadata": {
      "needs_background": "light"
     },
     "output_type": "display_data"
    }
   ],
   "source": [
    "plt.figure()\n",
    "\n",
    "NGMA_accuracy.head(4).plot(marker=\".\", label=\"NGMA\")\n",
    "gb.model_avg_auc_pr.mean().append(pd.Series([0.7084], index=[0.02])).sort_index().head(4).plot(linestyle='dashed', color='red', label=\"model accuracy\")\n",
    "plt.legend()\n",
    "\n",
    "plt.title('Effect of batch size on NGMA accuracy')\n",
    "plt.ylabel('accuracy')\n",
    "plt.xlabel('ratio of samples used in a mini-batch')"
   ]
  },
  {
   "cell_type": "code",
   "execution_count": null,
   "metadata": {},
   "outputs": [],
   "source": []
  }
 ],
 "metadata": {
  "kernelspec": {
   "display_name": "attack_fw",
   "language": "python",
   "name": "attack_fw"
  },
  "language_info": {
   "codemirror_mode": {
    "name": "ipython",
    "version": 3
   },
   "file_extension": ".py",
   "mimetype": "text/x-python",
   "name": "python",
   "nbconvert_exporter": "python",
   "pygments_lexer": "ipython3",
   "version": "3.6.9"
  }
 },
 "nbformat": 4,
 "nbformat_minor": 4
}
